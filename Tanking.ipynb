{
 "cells": [
  {
   "cell_type": "markdown",
   "id": "67b71f9e",
   "metadata": {},
   "source": [
    "## Tanking Paper"
   ]
  },
  {
   "cell_type": "markdown",
   "id": "f01f091a",
   "metadata": {},
   "source": [
    "Here is a link to the paper: https://github.com/coolstick784/TankingPaper/blob/main/tanking_paper.pdf . I am working on getting this published"
   ]
  }
 ],
 "metadata": {
  "kernelspec": {
   "display_name": "Python 3 (ipykernel)",
   "language": "python",
   "name": "python3"
  },
  "language_info": {
   "codemirror_mode": {
    "name": "ipython",
    "version": 3
   },
   "file_extension": ".py",
   "mimetype": "text/x-python",
   "name": "python",
   "nbconvert_exporter": "python",
   "pygments_lexer": "ipython3",
   "version": "3.11.5"
  }
 },
 "nbformat": 4,
 "nbformat_minor": 5
}
