{
 "cells": [
  {
   "cell_type": "markdown",
   "id": "7a8b7ba9",
   "metadata": {},
   "source": [
    "## Fitbit Data Analysis"
   ]
  },
  {
   "cell_type": "markdown",
   "id": "e43e7a9e",
   "metadata": {},
   "source": [
    "This notebook presents a comprehensive analysis of Fitbit activity data, sourced from a publicly available dataset on Kaggle (https://www.kaggle.com/datasets/arashnic/fitbit/data). My goal is to uncover insights into how different aspects of physical activity correlate with calorie expenditure. Through data exploration and statistical analysis, I address the following key questions:\n",
    "\n",
    "1. Day-of-Week vs. Calorie Burn: How does calorie burn vary across different days of the week? This analysis seeks to understand if there are significant fluctuations in energy expenditure on weekdays compared to weekends, potentially revealing behavioral patterns or lifestyle choices that affect physical activity levels.\n",
    "\n",
    "2. Activity Distance vs. Calories: What is the impact of the distance covered in various intensities of physical activities on the total calories burned? This question aims to identify which activities are the most efficient at burning calories, based on the distance covered.\n",
    "\n",
    "3. Activity Duration vs. Calories: How does the duration of various types of physical activities correlate with calorie burn? By examining activities segmented into categories like light, moderate, and vigorous intensity, we aim to determine how the time spent on these activities influences overall calorie expenditure."
   ]
  },
  {
   "cell_type": "markdown",
   "id": "3b7a5697",
   "metadata": {},
   "source": [
    "## Import Libraries and Data"
   ]
  },
  {
   "cell_type": "code",
   "execution_count": 3,
   "id": "1fe232f8",
   "metadata": {},
   "outputs": [],
   "source": [
    "import pandas as pd # for dataset usage\n",
    "from datetime import datetime # for dates \n",
    "from pandas.api.types import CategoricalDtype # To sort by day of week\n",
    "import seaborn as sns# For data visualization\n",
    "import matplotlib.pyplot as plt # For data visualization\n",
    "import numpy as np # For data editing\n",
    "from scipy.stats import linregress # For linear regression values\n",
    "import statsmodels.api as sm # For confidence intervals"
   ]
  },
  {
   "cell_type": "code",
   "execution_count": 4,
   "id": "95b06714",
   "metadata": {
    "tags": [
     "remove-output"
    ]
   },
   "outputs": [],
   "source": [
    "dailyActivity = pd.read_csv('fitbit/dailyActivity_merged.csv') # Read the dataset"
   ]
  },
  {
   "cell_type": "markdown",
   "id": "8cb298a3",
   "metadata": {},
   "source": [
    "## Clean and reformat the data"
   ]
  },
  {
   "cell_type": "code",
   "execution_count": 5,
   "id": "5b1d7a68",
   "metadata": {},
   "outputs": [
    {
     "data": {
      "text/html": [
       "<div>\n",
       "<style scoped>\n",
       "    .dataframe tbody tr th:only-of-type {\n",
       "        vertical-align: middle;\n",
       "    }\n",
       "\n",
       "    .dataframe tbody tr th {\n",
       "        vertical-align: top;\n",
       "    }\n",
       "\n",
       "    .dataframe thead th {\n",
       "        text-align: right;\n",
       "    }\n",
       "</style>\n",
       "<table border=\"1\" class=\"dataframe\">\n",
       "  <thead>\n",
       "    <tr style=\"text-align: right;\">\n",
       "      <th></th>\n",
       "      <th>Id</th>\n",
       "      <th>ActivityDate</th>\n",
       "      <th>TotalSteps</th>\n",
       "      <th>TotalDistance</th>\n",
       "      <th>TrackerDistance</th>\n",
       "      <th>LoggedActivitiesDistance</th>\n",
       "      <th>VeryActiveDistance</th>\n",
       "      <th>ModeratelyActiveDistance</th>\n",
       "      <th>LightActiveDistance</th>\n",
       "      <th>SedentaryActiveDistance</th>\n",
       "      <th>VeryActiveMinutes</th>\n",
       "      <th>FairlyActiveMinutes</th>\n",
       "      <th>LightlyActiveMinutes</th>\n",
       "      <th>SedentaryMinutes</th>\n",
       "      <th>Calories</th>\n",
       "    </tr>\n",
       "  </thead>\n",
       "  <tbody>\n",
       "    <tr>\n",
       "      <th>0</th>\n",
       "      <td>1503960366</td>\n",
       "      <td>4/12/2016</td>\n",
       "      <td>13162</td>\n",
       "      <td>8.500000</td>\n",
       "      <td>8.500000</td>\n",
       "      <td>0.0</td>\n",
       "      <td>1.88</td>\n",
       "      <td>0.55</td>\n",
       "      <td>6.06</td>\n",
       "      <td>0.00</td>\n",
       "      <td>25</td>\n",
       "      <td>13</td>\n",
       "      <td>328</td>\n",
       "      <td>728</td>\n",
       "      <td>1985</td>\n",
       "    </tr>\n",
       "    <tr>\n",
       "      <th>1</th>\n",
       "      <td>1503960366</td>\n",
       "      <td>4/13/2016</td>\n",
       "      <td>10735</td>\n",
       "      <td>6.970000</td>\n",
       "      <td>6.970000</td>\n",
       "      <td>0.0</td>\n",
       "      <td>1.57</td>\n",
       "      <td>0.69</td>\n",
       "      <td>4.71</td>\n",
       "      <td>0.00</td>\n",
       "      <td>21</td>\n",
       "      <td>19</td>\n",
       "      <td>217</td>\n",
       "      <td>776</td>\n",
       "      <td>1797</td>\n",
       "    </tr>\n",
       "    <tr>\n",
       "      <th>2</th>\n",
       "      <td>1503960366</td>\n",
       "      <td>4/14/2016</td>\n",
       "      <td>10460</td>\n",
       "      <td>6.740000</td>\n",
       "      <td>6.740000</td>\n",
       "      <td>0.0</td>\n",
       "      <td>2.44</td>\n",
       "      <td>0.40</td>\n",
       "      <td>3.91</td>\n",
       "      <td>0.00</td>\n",
       "      <td>30</td>\n",
       "      <td>11</td>\n",
       "      <td>181</td>\n",
       "      <td>1218</td>\n",
       "      <td>1776</td>\n",
       "    </tr>\n",
       "    <tr>\n",
       "      <th>3</th>\n",
       "      <td>1503960366</td>\n",
       "      <td>4/15/2016</td>\n",
       "      <td>9762</td>\n",
       "      <td>6.280000</td>\n",
       "      <td>6.280000</td>\n",
       "      <td>0.0</td>\n",
       "      <td>2.14</td>\n",
       "      <td>1.26</td>\n",
       "      <td>2.83</td>\n",
       "      <td>0.00</td>\n",
       "      <td>29</td>\n",
       "      <td>34</td>\n",
       "      <td>209</td>\n",
       "      <td>726</td>\n",
       "      <td>1745</td>\n",
       "    </tr>\n",
       "    <tr>\n",
       "      <th>4</th>\n",
       "      <td>1503960366</td>\n",
       "      <td>4/16/2016</td>\n",
       "      <td>12669</td>\n",
       "      <td>8.160000</td>\n",
       "      <td>8.160000</td>\n",
       "      <td>0.0</td>\n",
       "      <td>2.71</td>\n",
       "      <td>0.41</td>\n",
       "      <td>5.04</td>\n",
       "      <td>0.00</td>\n",
       "      <td>36</td>\n",
       "      <td>10</td>\n",
       "      <td>221</td>\n",
       "      <td>773</td>\n",
       "      <td>1863</td>\n",
       "    </tr>\n",
       "    <tr>\n",
       "      <th>...</th>\n",
       "      <td>...</td>\n",
       "      <td>...</td>\n",
       "      <td>...</td>\n",
       "      <td>...</td>\n",
       "      <td>...</td>\n",
       "      <td>...</td>\n",
       "      <td>...</td>\n",
       "      <td>...</td>\n",
       "      <td>...</td>\n",
       "      <td>...</td>\n",
       "      <td>...</td>\n",
       "      <td>...</td>\n",
       "      <td>...</td>\n",
       "      <td>...</td>\n",
       "      <td>...</td>\n",
       "    </tr>\n",
       "    <tr>\n",
       "      <th>935</th>\n",
       "      <td>8877689391</td>\n",
       "      <td>5/8/2016</td>\n",
       "      <td>10686</td>\n",
       "      <td>8.110000</td>\n",
       "      <td>8.110000</td>\n",
       "      <td>0.0</td>\n",
       "      <td>1.08</td>\n",
       "      <td>0.20</td>\n",
       "      <td>6.80</td>\n",
       "      <td>0.00</td>\n",
       "      <td>17</td>\n",
       "      <td>4</td>\n",
       "      <td>245</td>\n",
       "      <td>1174</td>\n",
       "      <td>2847</td>\n",
       "    </tr>\n",
       "    <tr>\n",
       "      <th>936</th>\n",
       "      <td>8877689391</td>\n",
       "      <td>5/9/2016</td>\n",
       "      <td>20226</td>\n",
       "      <td>18.250000</td>\n",
       "      <td>18.250000</td>\n",
       "      <td>0.0</td>\n",
       "      <td>11.10</td>\n",
       "      <td>0.80</td>\n",
       "      <td>6.24</td>\n",
       "      <td>0.05</td>\n",
       "      <td>73</td>\n",
       "      <td>19</td>\n",
       "      <td>217</td>\n",
       "      <td>1131</td>\n",
       "      <td>3710</td>\n",
       "    </tr>\n",
       "    <tr>\n",
       "      <th>937</th>\n",
       "      <td>8877689391</td>\n",
       "      <td>5/10/2016</td>\n",
       "      <td>10733</td>\n",
       "      <td>8.150000</td>\n",
       "      <td>8.150000</td>\n",
       "      <td>0.0</td>\n",
       "      <td>1.35</td>\n",
       "      <td>0.46</td>\n",
       "      <td>6.28</td>\n",
       "      <td>0.00</td>\n",
       "      <td>18</td>\n",
       "      <td>11</td>\n",
       "      <td>224</td>\n",
       "      <td>1187</td>\n",
       "      <td>2832</td>\n",
       "    </tr>\n",
       "    <tr>\n",
       "      <th>938</th>\n",
       "      <td>8877689391</td>\n",
       "      <td>5/11/2016</td>\n",
       "      <td>21420</td>\n",
       "      <td>19.559999</td>\n",
       "      <td>19.559999</td>\n",
       "      <td>0.0</td>\n",
       "      <td>13.22</td>\n",
       "      <td>0.41</td>\n",
       "      <td>5.89</td>\n",
       "      <td>0.00</td>\n",
       "      <td>88</td>\n",
       "      <td>12</td>\n",
       "      <td>213</td>\n",
       "      <td>1127</td>\n",
       "      <td>3832</td>\n",
       "    </tr>\n",
       "    <tr>\n",
       "      <th>939</th>\n",
       "      <td>8877689391</td>\n",
       "      <td>5/12/2016</td>\n",
       "      <td>8064</td>\n",
       "      <td>6.120000</td>\n",
       "      <td>6.120000</td>\n",
       "      <td>0.0</td>\n",
       "      <td>1.82</td>\n",
       "      <td>0.04</td>\n",
       "      <td>4.25</td>\n",
       "      <td>0.00</td>\n",
       "      <td>23</td>\n",
       "      <td>1</td>\n",
       "      <td>137</td>\n",
       "      <td>770</td>\n",
       "      <td>1849</td>\n",
       "    </tr>\n",
       "  </tbody>\n",
       "</table>\n",
       "<p>940 rows × 15 columns</p>\n",
       "</div>"
      ],
      "text/plain": [
       "             Id ActivityDate  TotalSteps  TotalDistance  TrackerDistance  \\\n",
       "0    1503960366    4/12/2016       13162       8.500000         8.500000   \n",
       "1    1503960366    4/13/2016       10735       6.970000         6.970000   \n",
       "2    1503960366    4/14/2016       10460       6.740000         6.740000   \n",
       "3    1503960366    4/15/2016        9762       6.280000         6.280000   \n",
       "4    1503960366    4/16/2016       12669       8.160000         8.160000   \n",
       "..          ...          ...         ...            ...              ...   \n",
       "935  8877689391     5/8/2016       10686       8.110000         8.110000   \n",
       "936  8877689391     5/9/2016       20226      18.250000        18.250000   \n",
       "937  8877689391    5/10/2016       10733       8.150000         8.150000   \n",
       "938  8877689391    5/11/2016       21420      19.559999        19.559999   \n",
       "939  8877689391    5/12/2016        8064       6.120000         6.120000   \n",
       "\n",
       "     LoggedActivitiesDistance  VeryActiveDistance  ModeratelyActiveDistance  \\\n",
       "0                         0.0                1.88                      0.55   \n",
       "1                         0.0                1.57                      0.69   \n",
       "2                         0.0                2.44                      0.40   \n",
       "3                         0.0                2.14                      1.26   \n",
       "4                         0.0                2.71                      0.41   \n",
       "..                        ...                 ...                       ...   \n",
       "935                       0.0                1.08                      0.20   \n",
       "936                       0.0               11.10                      0.80   \n",
       "937                       0.0                1.35                      0.46   \n",
       "938                       0.0               13.22                      0.41   \n",
       "939                       0.0                1.82                      0.04   \n",
       "\n",
       "     LightActiveDistance  SedentaryActiveDistance  VeryActiveMinutes  \\\n",
       "0                   6.06                     0.00                 25   \n",
       "1                   4.71                     0.00                 21   \n",
       "2                   3.91                     0.00                 30   \n",
       "3                   2.83                     0.00                 29   \n",
       "4                   5.04                     0.00                 36   \n",
       "..                   ...                      ...                ...   \n",
       "935                 6.80                     0.00                 17   \n",
       "936                 6.24                     0.05                 73   \n",
       "937                 6.28                     0.00                 18   \n",
       "938                 5.89                     0.00                 88   \n",
       "939                 4.25                     0.00                 23   \n",
       "\n",
       "     FairlyActiveMinutes  LightlyActiveMinutes  SedentaryMinutes  Calories  \n",
       "0                     13                   328               728      1985  \n",
       "1                     19                   217               776      1797  \n",
       "2                     11                   181              1218      1776  \n",
       "3                     34                   209               726      1745  \n",
       "4                     10                   221               773      1863  \n",
       "..                   ...                   ...               ...       ...  \n",
       "935                    4                   245              1174      2847  \n",
       "936                   19                   217              1131      3710  \n",
       "937                   11                   224              1187      2832  \n",
       "938                   12                   213              1127      3832  \n",
       "939                    1                   137               770      1849  \n",
       "\n",
       "[940 rows x 15 columns]"
      ]
     },
     "execution_count": 5,
     "metadata": {},
     "output_type": "execute_result"
    }
   ],
   "source": [
    "dailyActivity # Print the dataset"
   ]
  },
  {
   "cell_type": "code",
   "execution_count": 6,
   "id": "14d6b8ee",
   "metadata": {},
   "outputs": [],
   "source": [
    "dailyActivity = dailyActivity.drop_duplicates() # Remove duplicates and NA values\n",
    "dailyActivity = dailyActivity.dropna()"
   ]
  },
  {
   "cell_type": "code",
   "execution_count": 7,
   "id": "f67bed8b",
   "metadata": {},
   "outputs": [],
   "source": [
    "# Make the date a datetime object\n",
    "dailyActivity['ActivityDate'] = [datetime.strptime(day, '%m/%d/%Y').date() for day in dailyActivity['ActivityDate']]\n"
   ]
  },
  {
   "cell_type": "code",
   "execution_count": 8,
   "id": "2e6ad7cd",
   "metadata": {},
   "outputs": [],
   "source": [
    "# Create a column for the day of the week\n",
    "dailyActivity['DayOfWeek'] = [day.strftime('%A') for day in dailyActivity['ActivityDate']]"
   ]
  },
  {
   "cell_type": "markdown",
   "id": "62d221b6",
   "metadata": {},
   "source": [
    "## Analyze calories by day of week"
   ]
  },
  {
   "cell_type": "code",
   "execution_count": 9,
   "id": "17ac9e72",
   "metadata": {
    "scrolled": true
   },
   "outputs": [],
   "source": [
    "meanByDay = dailyActivity[['TotalSteps', 'TotalDistance', 'Calories', 'DayOfWeek']].groupby('DayOfWeek').mean() # Get the mean values of TotalSteps, TotalDistance, and Calories by the day of week\n",
    "daysInOrder = ['Monday', 'Tuesday', 'Wednesday', 'Thursday', 'Friday', 'Saturday', 'Sunday'] # The days of the week so we can order them\n",
    "meanByDay.reset_index(inplace=True) # Make the day a column"
   ]
  },
  {
   "cell_type": "code",
   "execution_count": 10,
   "id": "f68ab8c6",
   "metadata": {},
   "outputs": [],
   "source": [
    "dayType = CategoricalDtype(categories=daysInOrder, ordered=True)\n",
    "meanByDay['DayOfWeek'] = meanByDay['DayOfWeek'].astype(dayType)\n",
    "meanByDay = meanByDay.sort_values(by = ['DayOfWeek']).reset_index(drop=True)"
   ]
  },
  {
   "cell_type": "code",
   "execution_count": 11,
   "id": "50dbb101",
   "metadata": {},
   "outputs": [
    {
     "data": {
      "image/png": "[encoded data removed]",
      "text/plain": [
       "<Figure size 640x480 with 1 Axes>"
      ]
     },
     "metadata": {},
     "output_type": "display_data"
    }
   ],
   "source": [
    "\n",
    "sns.set_style('whitegrid') # Set the style \n",
    "blue, = sns.color_palette(\"muted\", 1)\n",
    "x = meanByDay['DayOfWeek'] #  Set the x and y values\n",
    "y = meanByDay['Calories']\n",
    "\n",
    "fig, ax = plt.subplots() # Create the plot\n",
    "ax.plot(x, y, color=blue, lw = 3)\n",
    "ax.fill_between(x, 0, y, alpha=.3)\n",
    "ax.set(xlim=(0, len(x) - 1), ylim=(0, 3000), xticks=x)\n",
    "ax.set(xlabel = 'Day of Week', ylabel = 'Calories Burned', title = 'Day of Week vs Calories')\n",
    "pass"
   ]
  },
  {
   "cell_type": "markdown",
   "id": "c401620d",
   "metadata": {},
   "source": [
    "We can see that there is a slight dip on Thursday, and Wednesday and Friday are also relatively low. Tuesday and Saturday seem to be the highest performing days"
   ]
  },
  {
   "cell_type": "markdown",
   "id": "aa25978c",
   "metadata": {},
   "source": [
    "## Correlation between distance of different types and calories burned"
   ]
  },
  {
   "cell_type": "markdown",
   "id": "01cb339e",
   "metadata": {},
   "source": [
    "In this section, I would like to analyze whether or not the type of distance (Very Active, Moderately Active, Lightly Active, Sedentary Active) is correlated with calories burned, or if only total distance matters"
   ]
  },
  {
   "cell_type": "code",
   "execution_count": 15,
   "id": "74a2363c",
   "metadata": {},
   "outputs": [
    {
     "data": {
      "image/png": "[encoded data removed]",
      "text/plain": [
       "<Figure size 640x480 with 1 Axes>"
      ]
     },
     "metadata": {},
     "output_type": "display_data"
    }
   ],
   "source": [
    "\n",
    "sns.set_style('whitegrid') # Set the style \n",
    "blue, = sns.color_palette(\"muted\", 1)\n",
    "x = dailyActivity['Calories'] #  Set the x and y values\n",
    "\n",
    "fig, ax = plt.subplots() # Create the plot\n",
    "sns.regplot(y='Calories', x='VeryActiveDistance', data=dailyActivity, color='blue', scatter=False, label='Very Active')\n",
    "sns.regplot(y='Calories', x='ModeratelyActiveDistance', data=dailyActivity, color='red', scatter=False, label='Moderately Active')\n",
    "sns.regplot(y='Calories', x='LightActiveDistance', data=dailyActivity, color='green', scatter=False, label='Lightly Active')\n",
    "sns.regplot(y='Calories', x='SedentaryActiveDistance', data=dailyActivity, color='purple', scatter=False, label='Sedentary Active')\n",
    "\n",
    "ax.set(xlim=(0, 10), ylim=(0, 5000))\n",
    "ax.set(ylabel = 'Calories Burned', xlabel = 'Active Distance', title ='Calories Burned vs Active Distance')\n",
    "ax.legend()\n",
    "pass"
   ]
  },
  {
   "cell_type": "code",
   "execution_count": 16,
   "id": "66578aa3",
   "metadata": {},
   "outputs": [
    {
     "data": {
      "text/html": [
       "<div>\n",
       "<style scoped>\n",
       "    .dataframe tbody tr th:only-of-type {\n",
       "        vertical-align: middle;\n",
       "    }\n",
       "\n",
       "    .dataframe tbody tr th {\n",
       "        vertical-align: top;\n",
       "    }\n",
       "\n",
       "    .dataframe thead th {\n",
       "        text-align: right;\n",
       "    }\n",
       "</style>\n",
       "<table border=\"1\" class=\"dataframe\">\n",
       "  <thead>\n",
       "    <tr style=\"text-align: right;\">\n",
       "      <th></th>\n",
       "      <th>VeryActiveDistance</th>\n",
       "      <th>ModeratelyActiveDistance</th>\n",
       "      <th>LightActiveDistance</th>\n",
       "    </tr>\n",
       "  </thead>\n",
       "  <tbody>\n",
       "    <tr>\n",
       "      <th>count</th>\n",
       "      <td>940.000000</td>\n",
       "      <td>940.000000</td>\n",
       "      <td>940.000000</td>\n",
       "    </tr>\n",
       "    <tr>\n",
       "      <th>mean</th>\n",
       "      <td>1.502681</td>\n",
       "      <td>0.567543</td>\n",
       "      <td>3.340819</td>\n",
       "    </tr>\n",
       "    <tr>\n",
       "      <th>std</th>\n",
       "      <td>2.658941</td>\n",
       "      <td>0.883580</td>\n",
       "      <td>2.040655</td>\n",
       "    </tr>\n",
       "    <tr>\n",
       "      <th>min</th>\n",
       "      <td>0.000000</td>\n",
       "      <td>0.000000</td>\n",
       "      <td>0.000000</td>\n",
       "    </tr>\n",
       "    <tr>\n",
       "      <th>25%</th>\n",
       "      <td>0.000000</td>\n",
       "      <td>0.000000</td>\n",
       "      <td>1.945000</td>\n",
       "    </tr>\n",
       "    <tr>\n",
       "      <th>50%</th>\n",
       "      <td>0.210000</td>\n",
       "      <td>0.240000</td>\n",
       "      <td>3.365000</td>\n",
       "    </tr>\n",
       "    <tr>\n",
       "      <th>75%</th>\n",
       "      <td>2.052500</td>\n",
       "      <td>0.800000</td>\n",
       "      <td>4.782500</td>\n",
       "    </tr>\n",
       "    <tr>\n",
       "      <th>max</th>\n",
       "      <td>21.920000</td>\n",
       "      <td>6.480000</td>\n",
       "      <td>10.710000</td>\n",
       "    </tr>\n",
       "  </tbody>\n",
       "</table>\n",
       "</div>"
      ],
      "text/plain": [
       "       VeryActiveDistance  ModeratelyActiveDistance  LightActiveDistance\n",
       "count          940.000000                940.000000           940.000000\n",
       "mean             1.502681                  0.567543             3.340819\n",
       "std              2.658941                  0.883580             2.040655\n",
       "min              0.000000                  0.000000             0.000000\n",
       "25%              0.000000                  0.000000             1.945000\n",
       "50%              0.210000                  0.240000             3.365000\n",
       "75%              2.052500                  0.800000             4.782500\n",
       "max             21.920000                  6.480000            10.710000"
      ]
     },
     "execution_count": 16,
     "metadata": {},
     "output_type": "execute_result"
    }
   ],
   "source": [
    "categories = ['VeryActiveDistance', 'ModeratelyActiveDistance', 'LightActiveDistance']\n",
    "dailyActivity[categories].describe() # Describe the dataset"
   ]
  },
  {
   "cell_type": "code",
   "execution_count": 17,
   "id": "1a86aef2",
   "metadata": {
    "scrolled": true
   },
   "outputs": [
    {
     "data": {
      "text/html": [
       "<div>\n",
       "<style scoped>\n",
       "    .dataframe tbody tr th:only-of-type {\n",
       "        vertical-align: middle;\n",
       "    }\n",
       "\n",
       "    .dataframe tbody tr th {\n",
       "        vertical-align: top;\n",
       "    }\n",
       "\n",
       "    .dataframe thead th {\n",
       "        text-align: right;\n",
       "    }\n",
       "</style>\n",
       "<table border=\"1\" class=\"dataframe\">\n",
       "  <thead>\n",
       "    <tr style=\"text-align: right;\">\n",
       "      <th></th>\n",
       "      <th>Lower Bound</th>\n",
       "      <th>Upper Bound</th>\n",
       "    </tr>\n",
       "  </thead>\n",
       "  <tbody>\n",
       "    <tr>\n",
       "      <th>const</th>\n",
       "      <td>1584.021207</td>\n",
       "      <td>1723.628397</td>\n",
       "    </tr>\n",
       "    <tr>\n",
       "      <th>VeryActiveDistance</th>\n",
       "      <td>100.259942</td>\n",
       "      <td>127.824722</td>\n",
       "    </tr>\n",
       "    <tr>\n",
       "      <th>ModeratelyActiveDistance</th>\n",
       "      <td>-7.632322</td>\n",
       "      <td>76.700433</td>\n",
       "    </tr>\n",
       "    <tr>\n",
       "      <th>LightActiveDistance</th>\n",
       "      <td>119.195123</td>\n",
       "      <td>155.477631</td>\n",
       "    </tr>\n",
       "  </tbody>\n",
       "</table>\n",
       "</div>"
      ],
      "text/plain": [
       "                          Lower Bound  Upper Bound\n",
       "const                     1584.021207  1723.628397\n",
       "VeryActiveDistance         100.259942   127.824722\n",
       "ModeratelyActiveDistance    -7.632322    76.700433\n",
       "LightActiveDistance        119.195123   155.477631"
      ]
     },
     "execution_count": 17,
     "metadata": {},
     "output_type": "execute_result"
    }
   ],
   "source": [
    "\n",
    "\n",
    "# Here, we will obtain the 95% confidence intervals for the slope of each distance. This should tell us, with 95% confidence,\n",
    "# whether distance or type of activity matters more for burning calories\n",
    "# SedentaryActiveDistance is not included due to its low sample size\n",
    "\n",
    "\n",
    "X = sm.add_constant(dailyActivity[categories])  # Predictor variable\n",
    "y = dailyActivity['Calories']  # Response variable\n",
    "\n",
    "# Fit the regression model\n",
    "model = sm.OLS(y, X).fit()\n",
    "\n",
    "# Get the confidence interval for the fitted parameters\n",
    "conf_int = model.conf_int(alpha=0.05)  # 95% CI\n",
    "conf_int.columns = ['Lower Bound', 'Upper Bound']\n",
    "conf_int\n",
    "\n"
   ]
  },
  {
   "cell_type": "markdown",
   "id": "742bdf8a",
   "metadata": {},
   "source": [
    "Outside of ModeratelyActiveDistance, LightActive and VeryActive have similar slopes. ModeratelyActive is likely low because people did not have high amounts of ModeratelyActiveDistance relative to the other types, so its data may be skewed. This supports the conclusion that distance matters more than type of activity for burning calories. "
   ]
  },
  {
   "cell_type": "markdown",
   "id": "0a4b5c34-d15d-4ab4-8fc9-35b9af810cda",
   "metadata": {},
   "source": [
    "## Comparing types of activity (minutes) with calories"
   ]
  },
  {
   "cell_type": "markdown",
   "id": "d43bada7-b1ec-49ce-847a-2d091af7c4cc",
   "metadata": {},
   "source": [
    "In this section, we will do a similar analysis, but compare types of activity in minutes with calories"
   ]
  },
  {
   "cell_type": "code",
   "execution_count": 32,
   "id": "76934b5d-35f4-4b57-9172-b68451ccf9b2",
   "metadata": {},
   "outputs": [
    {
     "data": {
      "image/png": "[encoded data removed]",
      "text/plain": [
       "<Figure size 640x480 with 1 Axes>"
      ]
     },
     "metadata": {},
     "output_type": "display_data"
    }
   ],
   "source": [
    "\n",
    "sns.set_style('whitegrid') # Set the style \n",
    "blue, = sns.color_palette(\"muted\", 1)\n",
    "x = dailyActivity['Calories'] #  Set the x and y values\n",
    "\n",
    "fig, ax = plt.subplots() # Create the plot\n",
    "sns.regplot(y='Calories', x='VeryActiveMinutes', data=dailyActivity, color='blue', scatter=False, label='Very Active')\n",
    "sns.regplot(y='Calories', x='FairlyActiveMinutes', data=dailyActivity, color='red', scatter=False, label='Fairly Active')\n",
    "sns.regplot(y='Calories', x='LightlyActiveMinutes', data=dailyActivity, color='green', scatter=False, label='Lightly Active')\n",
    "\n",
    "ax.set(xlim=(0, 100), ylim=(1900, 2500))\n",
    "ax.set(ylabel = 'Calories Burned', xlabel = 'Active Minutes', title ='Calories Burned vs Active Minutes')\n",
    "ax.legend()\n",
    "pass"
   ]
  },
  {
   "cell_type": "code",
   "execution_count": 24,
   "id": "9108e047-044b-422e-be51-ca5929387c99",
   "metadata": {},
   "outputs": [
    {
     "data": {
      "text/html": [
       "<div>\n",
       "<style scoped>\n",
       "    .dataframe tbody tr th:only-of-type {\n",
       "        vertical-align: middle;\n",
       "    }\n",
       "\n",
       "    .dataframe tbody tr th {\n",
       "        vertical-align: top;\n",
       "    }\n",
       "\n",
       "    .dataframe thead th {\n",
       "        text-align: right;\n",
       "    }\n",
       "</style>\n",
       "<table border=\"1\" class=\"dataframe\">\n",
       "  <thead>\n",
       "    <tr style=\"text-align: right;\">\n",
       "      <th></th>\n",
       "      <th>VeryActiveMinutes</th>\n",
       "      <th>FairlyActiveMinutes</th>\n",
       "      <th>LightlyActiveMinutes</th>\n",
       "    </tr>\n",
       "  </thead>\n",
       "  <tbody>\n",
       "    <tr>\n",
       "      <th>count</th>\n",
       "      <td>940.000000</td>\n",
       "      <td>940.000000</td>\n",
       "      <td>940.000000</td>\n",
       "    </tr>\n",
       "    <tr>\n",
       "      <th>mean</th>\n",
       "      <td>21.164894</td>\n",
       "      <td>13.564894</td>\n",
       "      <td>192.812766</td>\n",
       "    </tr>\n",
       "    <tr>\n",
       "      <th>std</th>\n",
       "      <td>32.844803</td>\n",
       "      <td>19.987404</td>\n",
       "      <td>109.174700</td>\n",
       "    </tr>\n",
       "    <tr>\n",
       "      <th>min</th>\n",
       "      <td>0.000000</td>\n",
       "      <td>0.000000</td>\n",
       "      <td>0.000000</td>\n",
       "    </tr>\n",
       "    <tr>\n",
       "      <th>25%</th>\n",
       "      <td>0.000000</td>\n",
       "      <td>0.000000</td>\n",
       "      <td>127.000000</td>\n",
       "    </tr>\n",
       "    <tr>\n",
       "      <th>50%</th>\n",
       "      <td>4.000000</td>\n",
       "      <td>6.000000</td>\n",
       "      <td>199.000000</td>\n",
       "    </tr>\n",
       "    <tr>\n",
       "      <th>75%</th>\n",
       "      <td>32.000000</td>\n",
       "      <td>19.000000</td>\n",
       "      <td>264.000000</td>\n",
       "    </tr>\n",
       "    <tr>\n",
       "      <th>max</th>\n",
       "      <td>210.000000</td>\n",
       "      <td>143.000000</td>\n",
       "      <td>518.000000</td>\n",
       "    </tr>\n",
       "  </tbody>\n",
       "</table>\n",
       "</div>"
      ],
      "text/plain": [
       "       VeryActiveMinutes  FairlyActiveMinutes  LightlyActiveMinutes\n",
       "count         940.000000           940.000000            940.000000\n",
       "mean           21.164894            13.564894            192.812766\n",
       "std            32.844803            19.987404            109.174700\n",
       "min             0.000000             0.000000              0.000000\n",
       "25%             0.000000             0.000000            127.000000\n",
       "50%             4.000000             6.000000            199.000000\n",
       "75%            32.000000            19.000000            264.000000\n",
       "max           210.000000           143.000000            518.000000"
      ]
     },
     "execution_count": 24,
     "metadata": {},
     "output_type": "execute_result"
    }
   ],
   "source": [
    "categories = ['VeryActiveMinutes', 'FairlyActiveMinutes', 'LightlyActiveMinutes']\n",
    "dailyActivity[categories].describe() # Describe the dataset"
   ]
  },
  {
   "cell_type": "code",
   "execution_count": 45,
   "id": "77cb2c30-c4f6-4dcd-8fdd-70edc24828d8",
   "metadata": {
    "scrolled": true
   },
   "outputs": [
    {
     "data": {
      "text/html": [
       "<div>\n",
       "<style scoped>\n",
       "    .dataframe tbody tr th:only-of-type {\n",
       "        vertical-align: middle;\n",
       "    }\n",
       "\n",
       "    .dataframe tbody tr th {\n",
       "        vertical-align: top;\n",
       "    }\n",
       "\n",
       "    .dataframe thead th {\n",
       "        text-align: right;\n",
       "    }\n",
       "</style>\n",
       "<table border=\"1\" class=\"dataframe\">\n",
       "  <thead>\n",
       "    <tr style=\"text-align: right;\">\n",
       "      <th></th>\n",
       "      <th>Lower Bound</th>\n",
       "      <th>Upper Bound</th>\n",
       "    </tr>\n",
       "  </thead>\n",
       "  <tbody>\n",
       "    <tr>\n",
       "      <th>const</th>\n",
       "      <td>1614.057242</td>\n",
       "      <td>1758.887175</td>\n",
       "    </tr>\n",
       "    <tr>\n",
       "      <th>VeryActiveMinutes</th>\n",
       "      <td>11.541894</td>\n",
       "      <td>13.731774</td>\n",
       "    </tr>\n",
       "    <tr>\n",
       "      <th>FairlyActiveMinutes</th>\n",
       "      <td>1.080648</td>\n",
       "      <td>4.714837</td>\n",
       "    </tr>\n",
       "    <tr>\n",
       "      <th>LightlyActiveMinutes</th>\n",
       "      <td>1.293266</td>\n",
       "      <td>1.926153</td>\n",
       "    </tr>\n",
       "  </tbody>\n",
       "</table>\n",
       "</div>"
      ],
      "text/plain": [
       "                      Lower Bound  Upper Bound\n",
       "const                 1614.057242  1758.887175\n",
       "VeryActiveMinutes       11.541894    13.731774\n",
       "FairlyActiveMinutes      1.080648     4.714837\n",
       "LightlyActiveMinutes     1.293266     1.926153"
      ]
     },
     "execution_count": 45,
     "metadata": {},
     "output_type": "execute_result"
    }
   ],
   "source": [
    "\n",
    "\n",
    "# Here, we will obtain the 95% confidence intervals for the slope of each type of activity in terms of minutes. This should tell us, with 95% confidence,\n",
    "# whether minutes or type of activity matters more for burning calories\n",
    "# SedentaryMinutes is not included \n",
    "\n",
    "\n",
    "X = sm.add_constant(dailyActivity[categories])  # Predictor variable\n",
    "y = dailyActivity['Calories']  # Response variable\n",
    "\n",
    "# Fit the regression model\n",
    "model = sm.OLS(y, X).fit()\n",
    "\n",
    "# Get the confidence interval for the fitted parameters\n",
    "conf_int = model.conf_int(alpha=0.05)  # 95% CI\n",
    "conf_int.columns = ['Lower Bound', 'Upper Bound']\n",
    "conf_int\n",
    "\n"
   ]
  },
  {
   "cell_type": "markdown",
   "id": "c376cb00-5e58-4123-9e14-d30b581c0140",
   "metadata": {},
   "source": [
    "It seems fairly clear that very active minutes burn a lot of calories but fairly/lightly active minutes burn a similar amount of calories. One possible explanation for this is that the activites for fairly/lightly minutes may be similar (e.g. jogging or swimming) but the activities for very active minutes would be taken to another level (e.g. sprinting). That being said, FairlyActiveMinutes does have a much higher upper bound than LightlyActiveMinutes, so it may be good to check the probability that FairlyActiveMinutes has a higher value than LightlyActiveMinutes in terms of calories burned/minute"
   ]
  },
  {
   "cell_type": "markdown",
   "id": "9b507ede-5a4c-46b4-94d6-2f128df021fe",
   "metadata": {},
   "source": [
    "To check this, we can run a bootstrap simulation "
   ]
  },
  {
   "cell_type": "code",
   "execution_count": 57,
   "id": "f4386bdb-7084-4136-bbe6-98a9c268c960",
   "metadata": {},
   "outputs": [
    {
     "name": "stdout",
     "output_type": "stream",
     "text": [
      "Probability that the coefficient of FairlyActiveMinutes is greater than LightlyActiveMinutes: 1.0\n"
     ]
    }
   ],
   "source": [
    "\n",
    "\n",
    "# Function to bootstrap and compare coefficients\n",
    "def bootstrap_compare_coeffs(data, predictors, response, n_bootstrap=10000):\n",
    "    count = 0\n",
    "    n = len(data) # Set n to the length of the original dataset\n",
    "    \n",
    "    for i in range(n_bootstrap):\n",
    "        # Sample with replacement\n",
    "        sample = data.sample(n, replace=True)\n",
    "        \n",
    "        # Fit model\n",
    "        X = sm.add_constant(sample[predictors])\n",
    "        y = sample[response]\n",
    "        model = sm.OLS(y, X).fit()\n",
    "        \n",
    "        # Compare coefficients\n",
    "        if model.params[predictors[0]] > model.params[predictors[1]]:\n",
    "            count += 1\n",
    "        \n",
    "       \n",
    "    # Estimate probability\n",
    "    probability = count / n_bootstrap\n",
    "    return probability\n",
    "\n",
    "\n",
    "data = dailyActivity  # Set the dataset\n",
    "predictors = ['FairlyActiveMinutes', 'LightlyActiveMinutes']  # Variables to compare\n",
    "response = 'Calories'  # Response variable\n",
    "n_bootstrap = 10000  # Number of bootstrap samples\n",
    "\n",
    "probability = bootstrap_compare_coeffs(data, predictors, response, n_bootstrap)\n",
    "print(f\"Probability that the coefficient of {predictors[0]} is greater than {predictors[1]}: {probability}\")\n"
   ]
  },
  {
   "cell_type": "markdown",
   "id": "313a138c-2b92-4500-bfc5-03c4d5dc9b2b",
   "metadata": {},
   "source": [
    "As we can see from the bootstrap sampling, it is evident that FairlyActiveMinutes will generally burn more calories than LightlyActiveMinutes. The parametersbelow show you the calories/minute burned for each type of activity"
   ]
  },
  {
   "cell_type": "code",
   "execution_count": 58,
   "id": "3fccba9a-5158-40fd-84a9-a9fa994771fc",
   "metadata": {},
   "outputs": [
    {
     "data": {
      "text/plain": [
       "const                   1686.472209\n",
       "VeryActiveMinutes         12.636834\n",
       "FairlyActiveMinutes        2.897742\n",
       "LightlyActiveMinutes       1.609710\n",
       "dtype: float64"
      ]
     },
     "execution_count": 58,
     "metadata": {},
     "output_type": "execute_result"
    }
   ],
   "source": [
    "model.params"
   ]
  }
 ],
 "metadata": {
  "celltoolbar": "Tags",
  "kernelspec": {
   "display_name": "Python 3 (ipykernel)",
   "language": "python",
   "name": "python3"
  },
  "language_info": {
   "codemirror_mode": {
    "name": "ipython",
    "version": 3
   },
   "file_extension": ".py",
   "mimetype": "text/x-python",
   "name": "python",
   "nbconvert_exporter": "python",
   "pygments_lexer": "ipython3",
   "version": "3.11.5"
  }
 },
 "nbformat": 4,
 "nbformat_minor": 5
}
