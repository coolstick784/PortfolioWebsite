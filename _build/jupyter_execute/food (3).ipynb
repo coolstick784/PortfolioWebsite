{
 "cells": [
  {
   "cell_type": "markdown",
   "id": "a724de5c",
   "metadata": {},
   "source": [
    "## Food Image Classification"
   ]
  },
  {
   "cell_type": "markdown",
   "id": "c1f906ca",
   "metadata": {},
   "source": [
    "\n",
    "This notebook utilizes the Food Image Classification dataset from Kaggle (https://www.kaggle.com/datasets/harishkumardatalab/food-image-classification-dataset/data) to develop and evaluate a machine learning model for classifying food images into their respective categories. The analysis is performed using PyTorch, focusing on model selection, optimization, and rigorous performance evaluation. Key objectives include:\n",
    "\n",
    "1. Image Classification: Implement and refine a machine learning model capable of accurately classifying diverse food images.\n",
    "\n",
    "2. Model Optimization: Employ PyTorch to explore various architectures, optimization strategies, and hyperparameter tuning to enhance model accuracy and generalizability.\n",
    "\n",
    "The final goal is to achieve a model that demonstrates high accuracy and robustness, potentially supporting applications in automated nutritional analysis and food discovery platforms."
   ]
  },
  {
   "cell_type": "markdown",
   "id": "0d878666-901f-422c-a707-a540d1090e8a",
   "metadata": {},
   "source": [
    "## Import libraries"
   ]
  },
  {
   "cell_type": "code",
   "execution_count": 1,
   "id": "5f2911c1-7835-4632-9cf8-4060ef546a10",
   "metadata": {
    "tags": [
     "remove-output"
    ]
   },
   "outputs": [
    {
     "ename": "ModuleNotFoundError",
     "evalue": "No module named 'tensorflow'",
     "output_type": "error",
     "traceback": [
      "\u001b[1;31m---------------------------------------------------------------------------\u001b[0m",
      "\u001b[1;31mModuleNotFoundError\u001b[0m                       Traceback (most recent call last)",
      "Cell \u001b[1;32mIn[1], line 7\u001b[0m\n\u001b[0;32m      4\u001b[0m \u001b[38;5;28;01mfrom\u001b[39;00m \u001b[38;5;21;01mPIL\u001b[39;00m \u001b[38;5;28;01mimport\u001b[39;00m Image\n\u001b[0;32m      6\u001b[0m \u001b[38;5;66;03m# for the model\u001b[39;00m\n\u001b[1;32m----> 7\u001b[0m \u001b[38;5;28;01mimport\u001b[39;00m \u001b[38;5;21;01mtensorflow\u001b[39;00m \u001b[38;5;28;01mas\u001b[39;00m \u001b[38;5;21;01mtf\u001b[39;00m\n\u001b[0;32m      8\u001b[0m \u001b[38;5;28;01mfrom\u001b[39;00m \u001b[38;5;21;01mtensorflow\u001b[39;00m \u001b[38;5;28;01mimport\u001b[39;00m keras\n\u001b[0;32m      9\u001b[0m \u001b[38;5;28;01mfrom\u001b[39;00m \u001b[38;5;21;01mtensorflow\u001b[39;00m\u001b[38;5;21;01m.\u001b[39;00m\u001b[38;5;21;01mkeras\u001b[39;00m \u001b[38;5;28;01mimport\u001b[39;00m layers, models\n",
      "\u001b[1;31mModuleNotFoundError\u001b[0m: No module named 'tensorflow'"
     ]
    }
   ],
   "source": [
    "import matplotlib.pyplot as plt # for data viz\n",
    "import numpy as np # for data manipulation\n",
    "import PIL # to read images\n",
    "from PIL import Image\n",
    "\n",
    "# for the model\n",
    "import tensorflow as tf\n",
    "from tensorflow import keras\n",
    "from tensorflow.keras import layers, models\n",
    "from tensorflow.keras.models import Sequential\n",
    "from tensorflow.keras.regularizers import l2\n",
    "from tensorflow.keras.applications import MobileNetV2\n",
    "from tensorflow.keras import regularizers\n",
    "from sklearn.model_selection import KFold\n",
    "\n",
    "# to get to the files we need\n",
    "import os\n",
    "from os import listdir\n",
    " "
   ]
  },
  {
   "cell_type": "markdown",
   "id": "234f6e26-f58a-4f7c-b252-a6258ab11305",
   "metadata": {},
   "source": [
    "## Read & clean the data"
   ]
  },
  {
   "cell_type": "code",
   "execution_count": 31,
   "id": "c5d2375a",
   "metadata": {},
   "outputs": [],
   "source": [
    "data_dir = 'Food_Classification_dataset' # Initialize the data directory"
   ]
  },
  {
   "cell_type": "code",
   "execution_count": 32,
   "id": "ddf8e6e5-d535-4b67-be9c-46fafd79ebfa",
   "metadata": {},
   "outputs": [],
   "source": [
    "def list_files(dir): # This is a function that outputs a list of files for a folder, even if it has subfolders\n",
    "    r = []\n",
    "    for root, dirs, files in os.walk(dir):\n",
    "        for name in files:\n",
    "            r.append(os.path.join(root, name))\n",
    "    return r"
   ]
  },
  {
   "cell_type": "code",
   "execution_count": 33,
   "id": "17f4d356-66a7-43a3-be48-fd045c92c84d",
   "metadata": {},
   "outputs": [],
   "source": [
    "img_height = 224\n",
    "img_width = 224"
   ]
  },
  {
   "cell_type": "code",
   "execution_count": 34,
   "id": "a55e6da8-8d39-454b-9804-c192e789fc47",
   "metadata": {},
   "outputs": [
    {
     "name": "stdout",
     "output_type": "stream",
     "text": [
      "Length: 23870\n",
      "0\n",
      "1000\n",
      "2000\n",
      "3000\n",
      "4000\n",
      "5000\n",
      "6000\n",
      "7000\n",
      "8000\n",
      "9000\n",
      "10000\n",
      "11000\n",
      "12000\n",
      "13000\n",
      "14000\n",
      "15000\n",
      "16000\n",
      "17000\n",
      "18000\n",
      "19000\n",
      "20000\n",
      "21000\n",
      "22000\n",
      "23000\n"
     ]
    }
   ],
   "source": [
    "standard_size = (img_height, img_width) # This is the size we want all images to be, as some are of different sizes\n",
    "file_list = list_files(data_dir) # The list of file names\n",
    "print(\"Length:\", len(file_list))\n",
    "for i, file_path in enumerate(file_list): # for each file, resize the image and convert to .jpg if needed\n",
    "    if i % 1000 == 0:\n",
    "        print(i)\n",
    "    with Image.open(file_path) as img: # convert all images to .jpg\n",
    "        img.convert('RGB')\n",
    "\n",
    "        if os.path.splitext(file_path)[1] != '.jpg':\n",
    "            \n",
    "            output_filename = os.path.splitext(file_path)[0] + '.jpg'\n",
    "            output_path = file_path\n",
    "            os.remove(file_path) # delete the original image\n",
    "\n",
    "        img_resized = img.resize(standard_size, PIL.Image.LANCZOS) # resize the image\n",
    "        img_resized.save(file_path) \n"
   ]
  },
  {
   "cell_type": "markdown",
   "id": "a5216004-a86a-4d97-b3f2-b361bff55886",
   "metadata": {},
   "source": [
    "## Initialize/prep the model"
   ]
  },
  {
   "cell_type": "code",
   "execution_count": 35,
   "id": "11fb13b0-5171-4fc5-bbc4-bc52d8284440",
   "metadata": {},
   "outputs": [],
   "source": [
    "# Set the batch size\n",
    "batch_size = 32\n"
   ]
  },
  {
   "cell_type": "code",
   "execution_count": 36,
   "id": "40ab93cb-4c4d-4b20-9d05-1823fea13901",
   "metadata": {},
   "outputs": [
    {
     "name": "stdout",
     "output_type": "stream",
     "text": [
      "Found 23870 files belonging to 34 classes.\n"
     ]
    }
   ],
   "source": [
    "# Create the dataset from the directory\n",
    "full_ds = tf.keras.utils.image_dataset_from_directory(\n",
    "  data_dir,\n",
    "\n",
    "  seed=123,\n",
    "  image_size=(img_height, img_width),\n",
    "  batch_size=batch_size)\n",
    "\n"
   ]
  },
  {
   "cell_type": "code",
   "execution_count": 37,
   "id": "928200d0-1e96-4e8b-a554-e0a94c6bdca6",
   "metadata": {},
   "outputs": [
    {
     "name": "stdout",
     "output_type": "stream",
     "text": [
      "0.0 1.0\n"
     ]
    }
   ],
   "source": [
    "# Configure the dataset for performance\n",
    "AUTOTUNE = tf.data.AUTOTUNE\n",
    "\n",
    "full_ds = full_ds.cache().shuffle(1000).prefetch(buffer_size=AUTOTUNE)\n",
    "\n",
    "\n",
    "# Standardize the data\n",
    "normalization_layer = layers.Rescaling(1./255)\n",
    "normalized_ds = full_ds.map(lambda x, y: (normalization_layer(x), y))\n",
    "image_batch, labels_batch = next(iter(normalized_ds))\n",
    "first_image = image_batch[0]\n",
    "print(np.min(first_image), np.max(first_image))"
   ]
  },
  {
   "cell_type": "code",
   "execution_count": 38,
   "id": "6990ed39-31b5-4c71-a3d4-2ed8d5fd352f",
   "metadata": {},
   "outputs": [
    {
     "name": "stdout",
     "output_type": "stream",
     "text": [
      "Found 23870 files belonging to 34 classes.\n",
      "Using 21483 files for training.\n"
     ]
    }
   ],
   "source": [
    "# Set 90% of values to be training values\n",
    "train_ds = tf.keras.utils.image_dataset_from_directory(\n",
    "  data_dir,\n",
    "  validation_split=0.1,\n",
    "  subset=\"training\",\n",
    "  seed=123,\n",
    "  image_size=(img_height, img_width),\n",
    "  batch_size=batch_size)"
   ]
  },
  {
   "cell_type": "code",
   "execution_count": 39,
   "id": "3abbbddc-721c-4d33-8d4b-b78c520fe04b",
   "metadata": {},
   "outputs": [
    {
     "name": "stdout",
     "output_type": "stream",
     "text": [
      "Found 23870 files belonging to 34 classes.\n",
      "Using 2387 files for validation.\n"
     ]
    }
   ],
   "source": [
    "# Set 10% of values to be validation values\n",
    "val_ds = tf.keras.utils.image_dataset_from_directory(\n",
    "  data_dir,\n",
    "  validation_split=0.1,\n",
    "  subset=\"validation\",\n",
    "  seed=123,\n",
    "  image_size=(img_height, img_width),\n",
    "  batch_size=batch_size)"
   ]
  },
  {
   "cell_type": "code",
   "execution_count": 40,
   "id": "c6041e69-b084-4736-8c5c-b27877e88d0a",
   "metadata": {},
   "outputs": [],
   "source": [
    "# Configure the dataset for performance\n",
    "AUTOTUNE = tf.data.AUTOTUNE\n",
    "\n"
   ]
  },
  {
   "cell_type": "code",
   "execution_count": 41,
   "id": "aec62748-f022-47b5-91d1-5bd1021a0ecd",
   "metadata": {},
   "outputs": [
    {
     "name": "stdout",
     "output_type": "stream",
     "text": [
      "0.0 0.98823535\n"
     ]
    }
   ],
   "source": [
    "# Standardize the data\n",
    "normalization_layer = layers.Rescaling(1./255)\n",
    "normalized_ds = train_ds.map(lambda x, y: (normalization_layer(x), y))\n",
    "image_batch, labels_batch = next(iter(normalized_ds))\n",
    "first_image = image_batch[0]\n",
    "print(np.min(first_image), np.max(first_image))"
   ]
  },
  {
   "cell_type": "markdown",
   "id": "7ff213ab-13fd-473b-b4b9-5be3c355b71d",
   "metadata": {},
   "source": [
    "## Create the model "
   ]
  },
  {
   "cell_type": "code",
   "execution_count": 43,
   "id": "2a02252d-89e5-441d-bd2b-ed05e84b8c08",
   "metadata": {},
   "outputs": [],
   "source": [
    "# Change the data up a little (rotation and zoom) to prevent overfitting\n",
    "data_augmentation = keras.Sequential([ \n",
    "  layers.RandomFlip(\"horizontal_and_vertical\"),\n",
    "  layers.RandomRotation(0.7),\n",
    "  layers.RandomZoom(0.4)\n",
    "])"
   ]
  },
  {
   "cell_type": "code",
   "execution_count": 44,
   "id": "a9a66f90-ea6b-4fc8-a65b-1a04fb304dc5",
   "metadata": {},
   "outputs": [],
   "source": [
    "# Here, we use a pre-built model -- the MobileNetV2 one. Initially, we don't change the base model, and we have three dense layers with high filter sizes to increase the complexity of the model.\n",
    "\n",
    "base_model = MobileNetV2(input_shape=(img_height, img_width, 3),\n",
    "                         include_top=False,\n",
    "                         weights='imagenet')\n",
    "base_model.trainable = True\n",
    "num_classes = len(train_ds.class_names) # set the number of classes\n",
    "model = Sequential([\n",
    "  base_model,\n",
    "  layers.GlobalAveragePooling2D(),\n",
    "  layers.BatchNormalization(),\n",
    "\n",
    "    \n",
    "  layers.Dense(512, activation='relu', kernel_regularizer=regularizers.l2(0.001)),\n",
    "  layers.BatchNormalization(),\n",
    "  layers.Dropout(0.3), \n",
    "\n",
    "    \n",
    "  layers.Dense(256, activation='relu', kernel_regularizer=regularizers.l2(0.001)),\n",
    "  layers.BatchNormalization(),\n",
    "  layers.Dropout(0.3), \n",
    "    \n",
    "\n",
    "  layers.Dense(128, activation='relu', kernel_regularizer=regularizers.l2(0.001)),\n",
    "  layers.BatchNormalization(),\n",
    "  layers.Dropout(0.3),  \n",
    "  layers.Dense(num_classes, activation='softmax')\n",
    "])\n",
    "\n",
    "\n"
   ]
  },
  {
   "cell_type": "code",
   "execution_count": 45,
   "id": "c6d91805-6ddf-4325-b749-b6f1329e4228",
   "metadata": {},
   "outputs": [],
   "source": [
    "def lr_schedule(epoch, lr): #Define our learning rate\n",
    "    # Start with 1e-3 and decrease the learning rate by an order of magnitude each epoch,\n",
    "    # down to a minimum of 1e-10.\n",
    "    if epoch < 10:\n",
    "        return 1e-3 * (10 ** (-epoch))\n",
    "    else:\n",
    "        return 1e-10"
   ]
  },
  {
   "cell_type": "markdown",
   "id": "3fbb1ae8-c7c1-4206-a7a0-6fc9bdf7432d",
   "metadata": {},
   "source": [
    "## Compile the model"
   ]
  },
  {
   "cell_type": "code",
   "execution_count": 46,
   "id": "ca8806e2-43be-4fc6-9a10-a9469c1d3a34",
   "metadata": {},
   "outputs": [],
   "source": [
    "\n",
    "optimizer = tf.keras.optimizers.Adam(learning_rate = 1e-3)\n",
    "\n",
    "model.compile(optimizer=optimizer,\n",
    "              loss='sparse_categorical_crossentropy',\n",
    "              metrics=['accuracy'])"
   ]
  },
  {
   "cell_type": "markdown",
   "id": "dcbd84fd-aec7-4b89-ba94-4a537188e6e2",
   "metadata": {},
   "source": [
    "## Train the model"
   ]
  },
  {
   "cell_type": "code",
   "execution_count": 47,
   "id": "d9a4a593-5516-4c4a-aaa4-b1684be3fbc5",
   "metadata": {},
   "outputs": [
    {
     "name": "stdout",
     "output_type": "stream",
     "text": [
      "Epoch 1/10\n",
      "672/672 [==============================] - 393s 563ms/step - loss: 3.2237 - accuracy: 0.4570 - val_loss: 7.4823 - val_accuracy: 0.1052 - lr: 0.0010\n",
      "Epoch 2/10\n",
      "672/672 [==============================] - 359s 535ms/step - loss: 1.9817 - accuracy: 0.7194 - val_loss: 2.2827 - val_accuracy: 0.6380 - lr: 1.0000e-04\n",
      "Epoch 3/10\n",
      "672/672 [==============================] - 377s 561ms/step - loss: 1.7262 - accuracy: 0.7834 - val_loss: 1.6861 - val_accuracy: 0.7863 - lr: 1.0000e-05\n",
      "Epoch 4/10\n",
      "672/672 [==============================] - 354s 526ms/step - loss: 1.6920 - accuracy: 0.7937 - val_loss: 1.5981 - val_accuracy: 0.8182 - lr: 1.0000e-06\n",
      "Epoch 5/10\n",
      "672/672 [==============================] - 352s 523ms/step - loss: 1.6976 - accuracy: 0.7900 - val_loss: 1.5800 - val_accuracy: 0.8178 - lr: 1.0000e-07\n",
      "Epoch 6/10\n",
      "672/672 [==============================] - 380s 565ms/step - loss: 1.6973 - accuracy: 0.7895 - val_loss: 1.5779 - val_accuracy: 0.8199 - lr: 1.0000e-08\n",
      "Epoch 7/10\n",
      "672/672 [==============================] - 370s 551ms/step - loss: 1.6923 - accuracy: 0.7899 - val_loss: 1.5782 - val_accuracy: 0.8207 - lr: 1.0000e-09\n",
      "Epoch 8/10\n",
      "672/672 [==============================] - 380s 565ms/step - loss: 1.6927 - accuracy: 0.7906 - val_loss: 1.5787 - val_accuracy: 0.8215 - lr: 1.0000e-10\n",
      "Epoch 9/10\n",
      "672/672 [==============================] - 351s 523ms/step - loss: 1.6847 - accuracy: 0.7939 - val_loss: 1.5800 - val_accuracy: 0.8199 - lr: 1.0000e-11\n",
      "Epoch 10/10\n",
      "672/672 [==============================] - 367s 545ms/step - loss: 1.6909 - accuracy: 0.7905 - val_loss: 1.5797 - val_accuracy: 0.8215 - lr: 1.0000e-12\n"
     ]
    }
   ],
   "source": [
    "lr_scheduler_callback = tf.keras.callbacks.LearningRateScheduler(lr_schedule)\n",
    "epochs= 10\n",
    "history = model.fit(\n",
    "  train_ds,\n",
    "  validation_data=val_ds,\n",
    "  epochs=epochs,\n",
    "  callbacks=[lr_scheduler_callback]\n",
    ")"
   ]
  },
  {
   "cell_type": "markdown",
   "id": "cb099d90-0f23-44aa-b953-590850a68211",
   "metadata": {},
   "source": [
    "## Visualize model results"
   ]
  },
  {
   "cell_type": "code",
   "execution_count": 48,
   "id": "c5386197-3d23-4334-ba77-e57f1cd07164",
   "metadata": {},
   "outputs": [
    {
     "data": {
      "image/png": "[encoded data removed]",
      "text/plain": [
       "<Figure size 800x800 with 2 Axes>"
      ]
     },
     "metadata": {},
     "output_type": "display_data"
    }
   ],
   "source": [
    "# For the original training\n",
    "acc = history.history['accuracy']\n",
    "val_acc = history.history['val_accuracy']\n",
    "\n",
    "loss = history.history['loss']\n",
    "val_loss = history.history['val_loss']\n",
    "\n",
    "epochs_range = range(epochs)\n",
    "\n",
    "plt.figure(figsize=(8, 8))\n",
    "plt.subplot(1, 2, 1)\n",
    "plt.plot(epochs_range, acc, label='Training Accuracy')\n",
    "plt.plot(epochs_range, val_acc, label='Validation Accuracy')\n",
    "plt.legend(loc='lower right')\n",
    "plt.title('Training and Validation Accuracy')\n",
    "\n",
    "plt.subplot(1, 2, 2)\n",
    "plt.plot(epochs_range, loss, label='Training Loss')\n",
    "plt.plot(epochs_range, val_loss, label='Validation Loss')\n",
    "plt.legend(loc='upper right')\n",
    "plt.title('Training and Validation Loss')\n",
    "plt.show()"
   ]
  },
  {
   "cell_type": "code",
   "execution_count": null,
   "id": "f27d712e-635d-4088-bc0f-f913eeecb76c",
   "metadata": {},
   "outputs": [],
   "source": []
  },
  {
   "cell_type": "code",
   "execution_count": null,
   "id": "26674a6a-29b8-4923-bca5-e6b9ad386547",
   "metadata": {},
   "outputs": [],
   "source": []
  },
  {
   "cell_type": "code",
   "execution_count": null,
   "id": "0831e24b-2be3-43e4-945b-da78e2f26ce6",
   "metadata": {},
   "outputs": [],
   "source": []
  },
  {
   "cell_type": "code",
   "execution_count": null,
   "id": "2c66124a-99cb-4345-a64b-28998e261dce",
   "metadata": {},
   "outputs": [],
   "source": []
  }
 ],
 "metadata": {
  "celltoolbar": "Tags",
  "kernelspec": {
   "display_name": "Python 3 (ipykernel)",
   "language": "python",
   "name": "python3"
  },
  "language_info": {
   "codemirror_mode": {
    "name": "ipython",
    "version": 3
   },
   "file_extension": ".py",
   "mimetype": "text/x-python",
   "name": "python",
   "nbconvert_exporter": "python",
   "pygments_lexer": "ipython3",
   "version": "3.11.5"
  }
 },
 "nbformat": 4,
 "nbformat_minor": 5
}