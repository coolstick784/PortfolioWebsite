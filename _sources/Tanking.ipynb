{
 "cells": [
  {
   "cell_type": "markdown",
   "id": "67b71f9e",
   "metadata": {},
   "source": [
    "## Tanking Paper"
   ]
  },
  {
   "cell_type": "markdown",
   "id": "f01f091a",
   "metadata": {},
   "source": [
    "As stated by Chicago White Sox General Manager Rick Hahn, “You don’t want to be a club that’s not good enough [to win] a championship but at the same time is just stuck in the middle” (Sheinin). As a result, teams in professional sports, namely the NBA, often lose games on purpose, or \"tank\", in order to secure a higher draft pick. With the higher draft pick, teams have a better selection regarding who they want to draft and often end up with a better player relative to a lower draft selection (Kram). The thought process here is that a better player will make the team better, driving them “over the hump” of a mediocre record into championship contention. This paper dives into the monetary and gameplay implications of tanking in the NFL.\n",
    "\n",
    "Here is a link to the paper: https://github.com/coolstick784/TankingPaper/blob/main/tanking_paper.pdf . I am working on getting this published"
   ]
  }
 ],
 "metadata": {
  "kernelspec": {
   "display_name": "Python 3 (ipykernel)",
   "language": "python",
   "name": "python3"
  },
  "language_info": {
   "codemirror_mode": {
    "name": "ipython",
    "version": 3
   },
   "file_extension": ".py",
   "mimetype": "text/x-python",
   "name": "python",
   "nbconvert_exporter": "python",
   "pygments_lexer": "ipython3",
   "version": "3.11.5"
  }
 },
 "nbformat": 4,
 "nbformat_minor": 5
}
